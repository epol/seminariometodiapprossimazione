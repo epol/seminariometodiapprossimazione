{
 "cells": [
  {
   "cell_type": "code",
   "execution_count": 1,
   "metadata": {
    "collapsed": false
   },
   "outputs": [
    {
     "name": "stderr",
     "output_type": "stream",
     "text": [
      "/usr/lib64/python3.4/site-packages/matplotlib/backends/backend_gtk3agg.py:18: UserWarning: The Gtk3Agg backend is known to not work on Python 3.x with pycairo. Try installing cairocffi.\n",
      "  \"The Gtk3Agg backend is known to not work on Python 3.x with pycairo. \"\n"
     ]
    }
   ],
   "source": [
    "import logging\n",
    "logging.basicConfig(format=\"%(levelname)s:%(funcName)s:%(message)s\")\n",
    "import numpy\n",
    "import scipy.linalg\n",
    "import scipy.io\n",
    "import matplotlib.pyplot as pyplot\n",
    "import methods\n",
    "import experiments\n",
    "import importlib\n",
    "import prettytable\n",
    "import os\n",
    "import scipy.stats\n",
    "experiments.methods.logging.basicConfig(format=\"%(levelname)s:%(funcName)s:%(message)s\")"
   ]
  },
  {
   "cell_type": "code",
   "execution_count": 20,
   "metadata": {
    "collapsed": false
   },
   "outputs": [
    {
     "data": {
      "text/plain": [
       "array([ 2.+0.j ,  1.+0.j , -1.+0.1j, -1.-0.1j])"
      ]
     },
     "execution_count": 20,
     "metadata": {},
     "output_type": "execute_result"
    }
   ],
   "source": [
    "V = scipy.stats.ortho_group.rvs(4)\n",
    "D = numpy.diag([1,1,-1+0.1j,-1+0.1j])\n",
    "D = scipy.linalg.block_diag([1],[2],[[-1,0.1],[-0.1,-1]])\n",
    "A = V.dot(D.dot(V.T))\n",
    "numpy.linalg.eig(A)[0]"
   ]
  },
  {
   "cell_type": "code",
   "execution_count": 25,
   "metadata": {
    "collapsed": false
   },
   "outputs": [
    {
     "name": "stderr",
     "output_type": "stream",
     "text": [
      "WARNING:root:Method hasn't converged with enough iterations\n",
      "WARNING:root:Method hasn't converged with enough iterations\n"
     ]
    },
    {
     "name": "stdout",
     "output_type": "stream",
     "text": [
      "+------------+-------+-----------+-------------------+-------------------+-------------------+\n",
      "|   Method   |  Type | Iteration |   Absolute error  |   Relative error  |   Square residue  |\n",
      "+------------+-------+-----------+-------------------+-------------------+-------------------+\n",
      "|     DB     | final |    100    | 5.58604779462e-13 | 2.49815626905e-13 | 7.65387953976e-14 |\n",
      "|     DB     |  best |     51    | 5.58604779462e-13 | 2.49815626905e-13 | 7.65387953976e-14 |\n",
      "|   Newton   | final |    100    | 5.64144037025e-13 | 2.52292857948e-13 | 5.49357099058e-16 |\n",
      "|   Newton   |  best |     17    | 5.57337860376e-13 | 2.49249043522e-13 | 5.44957243666e-16 |\n",
      "|     CR     | final |     17    | 1.18979913724e-10 |  5.3209429688e-11 | 6.25996726179e-11 |\n",
      "|     CR     |  best |     16    | 1.18979913724e-10 |  5.3209429688e-11 | 6.25996726179e-11 |\n",
      "| Product DB | final |     17    | 1.55113227787e-10 | 6.93687373713e-11 | 2.77898993699e-10 |\n",
      "| Product DB |  best |     17    | 1.55113227787e-10 | 6.93687373713e-11 | 2.77898993699e-10 |\n",
      "+------------+-------+-----------+-------------------+-------------------+-------------------+\n",
      "\\begin{tabular}{r| c c c c}\n",
      "Method & Iteration & Absolute error & Relative error & Square residue \\\\\n",
      "\\hline\n",
      "DB & $100$ & $5.59e-13$ & $2.50e-13$ & $7.65e-14$ \\\\\n",
      "DB & $51$ & $5.59e-13$ & $2.50e-13$ & $7.65e-14$ \\\\\n",
      "\\hline\n",
      "Newton & $100$ & $5.64e-13$ & $2.52e-13$ & $5.49e-16$ \\\\\n",
      "Newton & $17$ & $5.57e-13$ & $2.49e-13$ & $5.45e-16$ \\\\\n",
      "\\hline\n",
      "CR & $17$ & $1.19e-10$ & $5.32e-11$ & $6.26e-11$ \\\\\n",
      "CR & $16$ & $1.19e-10$ & $5.32e-11$ & $6.26e-11$ \\\\\n",
      "\\hline\n",
      "Product DB & $17$ & $1.55e-10$ & $6.94e-11$ & $2.78e-10$ \\\\\n",
      "Product DB & $17$ & $1.55e-10$ & $6.94e-11$ & $2.78e-10$ \\\\\n",
      "\\end{tabular}\n",
      "psi_n: 2.00e+00\n",
      "Cond: 1.41e+00\n",
      "[ 2.+0.j     1.+0.j    -1.+0.001j -1.-0.001j]\n"
     ]
    },
    {
     "name": "stderr",
     "output_type": "stream",
     "text": [
      "/usr/lib64/python3.4/site-packages/matplotlib/backends/backend_gtk3.py:215: Warning: Source ID 35 was not found when attempting to remove it\n",
      "  GLib.source_remove(self._idle_event_id)\n",
      "/usr/lib64/python3.4/site-packages/matplotlib/backends/backend_gtk3.py:215: Warning: Source ID 36 was not found when attempting to remove it\n",
      "  GLib.source_remove(self._idle_event_id)\n",
      "/usr/lib64/python3.4/site-packages/matplotlib/backends/backend_gtk3.py:215: Warning: Source ID 37 was not found when attempting to remove it\n",
      "  GLib.source_remove(self._idle_event_id)\n",
      "/usr/lib64/python3.4/site-packages/matplotlib/backends/backend_gtk3.py:215: Warning: Source ID 38 was not found when attempting to remove it\n",
      "  GLib.source_remove(self._idle_event_id)\n",
      "/usr/lib64/python3.4/site-packages/matplotlib/backends/backend_gtk3.py:215: Warning: Source ID 39 was not found when attempting to remove it\n",
      "  GLib.source_remove(self._idle_event_id)\n",
      "/usr/lib64/python3.4/site-packages/matplotlib/backends/backend_gtk3.py:215: Warning: Source ID 40 was not found when attempting to remove it\n",
      "  GLib.source_remove(self._idle_event_id)\n",
      "/usr/lib64/python3.4/site-packages/matplotlib/backends/backend_gtk3.py:215: Warning: Source ID 41 was not found when attempting to remove it\n",
      "  GLib.source_remove(self._idle_event_id)\n",
      "/usr/lib64/python3.4/site-packages/matplotlib/backends/backend_gtk3.py:215: Warning: Source ID 42 was not found when attempting to remove it\n",
      "  GLib.source_remove(self._idle_event_id)\n",
      "/usr/lib64/python3.4/site-packages/matplotlib/backends/backend_gtk3.py:215: Warning: Source ID 43 was not found when attempting to remove it\n",
      "  GLib.source_remove(self._idle_event_id)\n"
     ]
    }
   ],
   "source": [
    "d = 0.001\n",
    "D = scipy.linalg.block_diag([1],[2],[[-1,d],[-d,-1]])\n",
    "A = V.dot(D.dot(V.T))\n",
    "prettydata = experiments.pretty_experiments(A,'provabrutta')\n",
    "print (prettydata['latex'])\n",
    "print (\"psi_n: {p:.2e}\".format(p=prettydata['psi_n']))\n",
    "print (\"Cond: {c:.2e}\".format(c=prettydata['scond']))\n",
    "print (numpy.linalg.eig(A)[0])\n",
    "pyplot.close('all')"
   ]
  },
  {
   "cell_type": "code",
   "execution_count": 42,
   "metadata": {
    "collapsed": false
   },
   "outputs": [],
   "source": [
    "importlib.reload(experiments)\n",
    "pyplot.close('all')"
   ]
  },
  {
   "cell_type": "code",
   "execution_count": 43,
   "metadata": {
    "collapsed": false
   },
   "outputs": [
    {
     "name": "stderr",
     "output_type": "stream",
     "text": [
      "WARNING:root:Method hasn't converged with enough iterations\n",
      "WARNING:root:Method hasn't converged with enough iterations\n",
      "WARNING:root:Method hasn't converged with enough iterations\n",
      "WARNING:root:Method hasn't converged with enough iterations\n",
      "WARNING:root:Method hasn't converged with enough iterations\n",
      "WARNING:root:Method hasn't converged with enough iterations\n",
      "WARNING:root:Method hasn't converged with enough iterations\n"
     ]
    },
    {
     "name": "stdout",
     "output_type": "stream",
     "text": [
      "+-------------------+--------+----+------------+----+\n",
      "|      Distance     | Newton | DB | Product DB | CR |\n",
      "+-------------------+--------+----+------------+----+\n",
      "|       1e-05       |   23   | 30 |     23     | 23 |\n",
      "| 1.26485521686e-05 |   23   | 30 |     23     | 23 |\n",
      "| 1.59985871961e-05 |   22   | 30 |     22     | 22 |\n",
      "| 2.02358964773e-05 |   22   | 30 |     22     | 22 |\n",
      "|  2.5595479227e-05 |   22   | 22 |     22     | 22 |\n",
      "| 3.23745754282e-05 |   21   | 21 |     21     | 21 |\n",
      "| 4.09491506238e-05 |   21   | 30 |     21     | 21 |\n",
      "| 5.17947467923e-05 |   21   | 30 |     21     | 21 |\n",
      "|  6.5512855686e-05 |   20   | 30 |     20     | 20 |\n",
      "| 8.28642772855e-05 |   20   | 20 |     20     | 20 |\n",
      "| 0.000104811313415 |   20   | 20 |     20     | 20 |\n",
      "| 0.000132571136559 |   19   | 19 |     19     | 19 |\n",
      "| 0.000167683293681 |   19   | 19 |     19     | 19 |\n",
      "| 0.000212095088792 |   19   | 19 |     19     | 19 |\n",
      "| 0.000268269579528 |   18   | 18 |     18     | 18 |\n",
      "|  0.00033932217719 |   18   | 18 |     18     | 18 |\n",
      "| 0.000429193426013 |   18   | 18 |     18     | 18 |\n",
      "| 0.000542867543932 |   17   | 17 |     17     | 17 |\n",
      "| 0.000686648845004 |   17   | 17 |     17     | 17 |\n",
      "| 0.000868511373751 |   17   | 17 |     17     | 17 |\n",
      "|  0.00109854114199 |   16   | 16 |     16     | 16 |\n",
      "|  0.00138949549437 |   16   | 16 |     16     | 16 |\n",
      "|  0.00175751062485 |   16   | 16 |     16     | 16 |\n",
      "|  0.00222299648253 |   15   | 15 |     15     | 15 |\n",
      "|  0.00281176869797 |   15   | 15 |     15     | 15 |\n",
      "|  0.00355648030622 |   15   | 15 |     15     | 15 |\n",
      "|  0.00449843266897 |   14   | 14 |     14     | 14 |\n",
      "|  0.00568986602902 |   14   | 14 |     14     | 14 |\n",
      "|  0.00719685673001 |   13   | 13 |     13     | 13 |\n",
      "|  0.00910298177992 |   13   | 13 |     13     | 13 |\n",
      "|  0.0115139539933  |   13   | 13 |     13     | 13 |\n",
      "|   0.014563484775  |   12   | 12 |     12     | 12 |\n",
      "|  0.0184206996933  |   12   | 12 |     12     | 12 |\n",
      "|  0.0232995181052  |   12   | 12 |     12     | 12 |\n",
      "|  0.0294705170255  |   11   | 11 |     11     | 11 |\n",
      "|  0.0372759372031  |   11   | 11 |     11     | 11 |\n",
      "|  0.0471486636346  |   11   | 11 |     11     | 11 |\n",
      "|  0.0596362331659  |   10   | 10 |     10     | 10 |\n",
      "|  0.0754312006335  |   10   | 10 |     10     | 10 |\n",
      "|   0.095409547635  |   10   | 10 |     10     | 10 |\n",
      "|   0.120679264064  |   9    | 9  |     9      | 9  |\n",
      "|   0.152641796718  |   9    | 9  |     9      | 9  |\n",
      "|   0.193069772888  |   9    | 9  |     9      | 9  |\n",
      "|   0.244205309455  |   8    | 8  |     8      | 8  |\n",
      "|   0.308884359648  |   8    | 8  |     8      | 8  |\n",
      "|   0.390693993705  |   8    | 8  |     8      | 8  |\n",
      "|   0.494171336132  |   7    | 7  |     7      | 7  |\n",
      "|   0.625055192527  |   7    | 7  |     7      | 7  |\n",
      "|   0.790604321091  |   7    | 7  |     7      | 7  |\n",
      "|        1.0        |   7    | 7  |     7      | 7  |\n",
      "+-------------------+--------+----+------------+----+\n"
     ]
    },
    {
     "name": "stderr",
     "output_type": "stream",
     "text": [
      "/usr/lib64/python3.4/site-packages/matplotlib/backends/backend_gtk3.py:215: Warning: Source ID 901 was not found when attempting to remove it\n",
      "  GLib.source_remove(self._idle_event_id)\n"
     ]
    }
   ],
   "source": [
    "pyplot.close('all')\n",
    "fig = experiments.near_rminus(n=4)\n",
    "pyplot.show()"
   ]
  },
  {
   "cell_type": "code",
   "execution_count": 53,
   "metadata": {
    "collapsed": false
   },
   "outputs": [
    {
     "name": "stderr",
     "output_type": "stream",
     "text": [
      "/usr/lib64/python3.4/site-packages/matplotlib/backends/backend_gtk3.py:215: Warning: Source ID 1645 was not found when attempting to remove it\n",
      "  GLib.source_remove(self._idle_event_id)\n"
     ]
    }
   ],
   "source": [
    "pyplot.show()"
   ]
  },
  {
   "cell_type": "code",
   "execution_count": null,
   "metadata": {
    "collapsed": true
   },
   "outputs": [],
   "source": []
  }
 ],
 "metadata": {
  "kernelspec": {
   "display_name": "Python 3",
   "language": "python",
   "name": "python3"
  },
  "language_info": {
   "codemirror_mode": {
    "name": "ipython",
    "version": 3
   },
   "file_extension": ".py",
   "mimetype": "text/x-python",
   "name": "python",
   "nbconvert_exporter": "python",
   "pygments_lexer": "ipython3",
   "version": "3.4.5"
  }
 },
 "nbformat": 4,
 "nbformat_minor": 0
}
