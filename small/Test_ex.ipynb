{
 "cells": [
  {
   "cell_type": "code",
   "execution_count": 1,
   "metadata": {
    "collapsed": false
   },
   "outputs": [
    {
     "name": "stdout",
     "output_type": "stream",
     "text": [
      "Using matplotlib backend: GTK3Agg\n"
     ]
    },
    {
     "name": "stderr",
     "output_type": "stream",
     "text": [
      "/usr/lib64/python3.4/site-packages/matplotlib/backends/backend_gtk3agg.py:18: UserWarning: The Gtk3Agg backend is known to not work on Python 3.x with pycairo. Try installing cairocffi.\n",
      "  \"The Gtk3Agg backend is known to not work on Python 3.x with pycairo. \"\n"
     ]
    }
   ],
   "source": [
    "%matplotlib"
   ]
  },
  {
   "cell_type": "code",
   "execution_count": 147,
   "metadata": {
    "collapsed": false
   },
   "outputs": [],
   "source": [
    "import numpy\n",
    "import scipy.linalg\n",
    "import matplotlib.pyplot as pyplot\n",
    "import methods\n",
    "import experiments\n",
    "import logging\n",
    "import importlib\n",
    "import prettytable\n",
    "import os\n",
    "logging.basicConfig(format=\"%(levelname)s:%(funcName)s:%(message)s\")"
   ]
  },
  {
   "cell_type": "code",
   "execution_count": 94,
   "metadata": {
    "collapsed": false
   },
   "outputs": [
    {
     "data": {
      "text/plain": [
       "<module 'experiments' from '/home/enrico/latex/seminariometodiapprossimazione/small/experiments.py'>"
      ]
     },
     "execution_count": 94,
     "metadata": {},
     "output_type": "execute_result"
    }
   ],
   "source": [
    "importlib.reload(methods)\n",
    "importlib.reload(experiments)"
   ]
  },
  {
   "cell_type": "code",
   "execution_count": 4,
   "metadata": {
    "collapsed": true
   },
   "outputs": [],
   "source": [
    "A = numpy.array([[ 0.38420254,  0.50223925,  0.52823837,  0.11092816],\n",
    "       [ 0.48789486,  0.88984659,  0.09429784,  0.54623808],\n",
    "       [ 0.2425929 ,  0.52993533,  0.47182584,  0.54590756],\n",
    "       [ 0.11032265,  0.33712894,  0.75394194,  0.88978741]])"
   ]
  },
  {
   "cell_type": "code",
   "execution_count": 121,
   "metadata": {
    "collapsed": false
   },
   "outputs": [],
   "source": [
    "S = experiments.find_best(A,1e-30,100)"
   ]
  },
  {
   "cell_type": "code",
   "execution_count": 66,
   "metadata": {
    "collapsed": false
   },
   "outputs": [
    {
     "name": "stderr",
     "output_type": "stream",
     "text": [
      "WARNING:root:Method hasn't converged with enough iterations\n"
     ]
    }
   ],
   "source": [
    "pyplot.ioff()\n",
    "exp = experiments.try_one(A,methods.newton_diagnostic,S)"
   ]
  },
  {
   "cell_type": "code",
   "execution_count": 124,
   "metadata": {
    "collapsed": false
   },
   "outputs": [],
   "source": [
    "pyplot.close('all')"
   ]
  },
  {
   "cell_type": "code",
   "execution_count": 122,
   "metadata": {
    "collapsed": false
   },
   "outputs": [
    {
     "name": "stderr",
     "output_type": "stream",
     "text": [
      "WARNING:root:Method hasn't converged with enough iterations\n",
      "/usr/lib64/python3.4/site-packages/matplotlib/pyplot.py:424: RuntimeWarning: More than 20 figures have been opened. Figures created through the pyplot interface (`matplotlib.pyplot.figure`) are retained until explicitly closed and may consume too much memory. (To control this warning, see the rcParam `figure.max_open_warning`).\n",
      "  max_open_warning, RuntimeWarning)\n",
      "WARNING:root:Method hasn't converged with enough iterations\n"
     ]
    }
   ],
   "source": [
    "data = experiments.try_all(A,S)"
   ]
  },
  {
   "cell_type": "code",
   "execution_count": 120,
   "metadata": {
    "collapsed": false
   },
   "outputs": [
    {
     "name": "stdout",
     "output_type": "stream",
     "text": [
      "+------------+-------+-----------+-------------------+-------------------+-------------------+\n",
      "|   Method   |  Type | Iteration |   Absolute error  |   Relative error  |   Square residue  |\n",
      "+------------+-------+-----------+-------------------+-------------------+-------------------+\n",
      "|   Newton   | final |    100    |   313.419162827   |   169.261993273   |   529.597276926   |\n",
      "|   Newton   |  best |     8     | 6.50074748046e-16 | 3.51072814561e-16 | 9.43893633983e-16 |\n",
      "| Product DB | final |     7     | 9.26238376871e-16 | 5.00214959741e-16 | 1.69178145467e-15 |\n",
      "| Product DB |  best |     7     | 9.26238376871e-16 | 5.00214959741e-16 | 1.69178145467e-15 |\n",
      "|     DB     | final |    100    | 1.82080859909e-15 | 9.83327535149e-16 |  3.2485882662e-15 |\n",
      "|     DB     |  best |     27    |  3.6823566523e-16 | 1.98865640917e-16 | 6.86354474304e-16 |\n",
      "|     CR     | final |     7     |        0.0        |        0.0        | 3.65331281368e-16 |\n",
      "|     CR     |  best |     6     |        0.0        |        0.0        | 3.65331281368e-16 |\n",
      "+------------+-------+-----------+-------------------+-------------------+-------------------+\n"
     ]
    }
   ],
   "source": [
    "table = prettytable.PrettyTable(['Method','Type','Iteration','Absolute error','Relative error','Square residue'])\n",
    "for name in data.keys():\n",
    "    exp = data[name]\n",
    "    table.add_row([name,'final',exp['final']['index'],exp['final']['errabs'],exp['final']['errrel'],exp['final']['residue']])\n",
    "    table.add_row([name,'best',exp['best']['index'],exp['best']['errabs'],exp['best']['errrel'],exp['best']['residue']])\n",
    "print(table)"
   ]
  },
  {
   "cell_type": "code",
   "execution_count": 141,
   "metadata": {
    "collapsed": false
   },
   "outputs": [
    {
     "name": "stdout",
     "output_type": "stream",
     "text": [
      "\\begin{tabular}{r| c c c c}\n",
      "Method & Iteration & Absolute error & Relative error & Square residue \\\\\n",
      "\\hline\n",
      "Newton & $100$ & $3.13e+02$ & $1.69e+02$ & $5.30e+02$ \\\\\n",
      "Newton & $8$ & $6.50e-16$ & $3.51e-16$ & $9.44e-16$ \\\\\n",
      "\\hline\n",
      "Product DB & $7$ & $9.26e-16$ & $5.00e-16$ & $1.69e-15$ \\\\\n",
      "Product DB & $7$ & $9.26e-16$ & $5.00e-16$ & $1.69e-15$ \\\\\n",
      "\\hline\n",
      "DB & $100$ & $1.82e-15$ & $9.83e-16$ & $3.25e-15$ \\\\\n",
      "DB & $27$ & $3.68e-16$ & $1.99e-16$ & $6.86e-16$ \\\\\n",
      "\\hline\n",
      "CR & $7$ & $0.00e+00$ & $0.00e+00$ & $3.65e-16$ \\\\\n",
      "CR & $6$ & $0.00e+00$ & $0.00e+00$ & $3.65e-16$ \\\\\n",
      "\\end{tabular}\n"
     ]
    }
   ],
   "source": [
    "original = numpy.get_printoptions()\n",
    "numpy.set_printoptions(precision=3)\n",
    "outtable = \"\"\"\\\\begin{tabular}{r| c c c c}\n",
    "Method & Iteration & Absolute error & Relative error & Square residue \\\\\\\\\n",
    "\"\"\"\n",
    "for name in data.keys():\n",
    "    exp = data[name]\n",
    "    outtable +=\"\\\\hline\\n\"\n",
    "    for t in ['final','best']:\n",
    "        outtable += \"{name} & ${index}$ & ${errabs:.2e}$ & ${errrel:.2e}$ & ${res:.2e}$ \\\\\\\\\\n\".format(name=name,type=t,index=exp[t]['index'],errabs=exp[t]['errabs'],errrel=exp[t]['errrel'],res=exp[t]['residue'])\n",
    "outtable += \"\\\\end{tabular}\"\n",
    "print(outtable)\n",
    "numpy.set_printoptions(**original)"
   ]
  },
  {
   "cell_type": "code",
   "execution_count": 153,
   "metadata": {
    "collapsed": false
   },
   "outputs": [],
   "source": [
    "outradix = 'test4'\n",
    "try:\n",
    "    os.mkdir(outradix)\n",
    "except OSError:\n",
    "    pass\n",
    "for name in data.keys():\n",
    "    exp = data[name]\n",
    "    exp['absplot'].savefig(outradix+'/'+name+' - '+'absplot.png')\n",
    "    exp['relplot'].savefig(outradix+'/'+name+' - '+'relplot.png')"
   ]
  },
  {
   "cell_type": "code",
   "execution_count": null,
   "metadata": {
    "collapsed": true
   },
   "outputs": [],
   "source": []
  }
 ],
 "metadata": {
  "kernelspec": {
   "display_name": "Python 3",
   "language": "python",
   "name": "python3"
  },
  "language_info": {
   "codemirror_mode": {
    "name": "ipython",
    "version": 3
   },
   "file_extension": ".py",
   "mimetype": "text/x-python",
   "name": "python",
   "nbconvert_exporter": "python",
   "pygments_lexer": "ipython3",
   "version": "3.4.5"
  }
 },
 "nbformat": 4,
 "nbformat_minor": 0
}
