{
 "cells": [
  {
   "cell_type": "code",
   "execution_count": 1,
   "metadata": {
    "collapsed": false
   },
   "outputs": [
    {
     "name": "stderr",
     "output_type": "stream",
     "text": [
      "/usr/lib64/python3.4/site-packages/matplotlib/backends/backend_gtk3agg.py:18: UserWarning: The Gtk3Agg backend is known to not work on Python 3.x with pycairo. Try installing cairocffi.\n",
      "  \"The Gtk3Agg backend is known to not work on Python 3.x with pycairo. \"\n"
     ]
    }
   ],
   "source": [
    "import logging\n",
    "logging.basicConfig(format=\"%(levelname)s:%(funcName)s:%(message)s\")\n",
    "import numpy\n",
    "import scipy.linalg\n",
    "import scipy.io\n",
    "import matplotlib.pyplot as pyplot\n",
    "import methods\n",
    "import experiments\n",
    "import importlib\n",
    "import prettytable\n",
    "import os"
   ]
  },
  {
   "cell_type": "code",
   "execution_count": 15,
   "metadata": {
    "collapsed": false
   },
   "outputs": [
    {
     "data": {
      "text/plain": [
       "<module 'experiments' from '/home/enrico/latex/seminariometodiapprossimazione/small/experiments.py'>"
      ]
     },
     "execution_count": 15,
     "metadata": {},
     "output_type": "execute_result"
    }
   ],
   "source": [
    "importlib.reload(experiments)"
   ]
  },
  {
   "cell_type": "code",
   "execution_count": 16,
   "metadata": {
    "collapsed": false
   },
   "outputs": [
    {
     "name": "stderr",
     "output_type": "stream",
     "text": [
      "WARNING:root:Method hasn't converged with enough iterations\n",
      "WARNING:root:Method hasn't converged with enough iterations\n"
     ]
    },
    {
     "name": "stdout",
     "output_type": "stream",
     "text": [
      "+------------+-------+-----------+-------------------+-------------------+-------------------+\n",
      "|   Method   |  Type | Iteration |   Absolute error  |   Relative error  |   Square residue  |\n",
      "+------------+-------+-----------+-------------------+-------------------+-------------------+\n",
      "|     CR     | final |     7     |        0.0        |        0.0        | 3.65331281368e-16 |\n",
      "|     CR     |  best |     6     |        0.0        |        0.0        | 3.65331281368e-16 |\n",
      "|     DB     | final |    100    | 1.82080859909e-15 | 9.83327535149e-16 |  3.2485882662e-15 |\n",
      "|     DB     |  best |     27    |  3.6823566523e-16 | 1.98865640917e-16 | 6.86354474304e-16 |\n",
      "| Product DB | final |     7     | 9.26238376871e-16 | 5.00214959741e-16 | 1.69178145467e-15 |\n",
      "| Product DB |  best |     7     | 9.26238376871e-16 | 5.00214959741e-16 | 1.69178145467e-15 |\n",
      "|   Newton   | final |    100    |   313.419162827   |   169.261993273   |   529.597276926   |\n",
      "|   Newton   |  best |     8     | 6.50074748046e-16 | 3.51072814561e-16 | 9.43893633983e-16 |\n",
      "+------------+-------+-----------+-------------------+-------------------+-------------------+\n",
      "\\begin{tabular}{r| c c c c}\n",
      "Method & Iteration & Absolute error & Relative error & Square residue \\\\\n",
      "\\hline\n",
      "CR & $7$ & $0.00e+00$ & $0.00e+00$ & $3.65e-16$ \\\\\n",
      "CR & $6$ & $0.00e+00$ & $0.00e+00$ & $3.65e-16$ \\\\\n",
      "\\hline\n",
      "DB & $100$ & $1.82e-15$ & $9.83e-16$ & $3.25e-15$ \\\\\n",
      "DB & $27$ & $3.68e-16$ & $1.99e-16$ & $6.86e-16$ \\\\\n",
      "\\hline\n",
      "Product DB & $7$ & $9.26e-16$ & $5.00e-16$ & $1.69e-15$ \\\\\n",
      "Product DB & $7$ & $9.26e-16$ & $5.00e-16$ & $1.69e-15$ \\\\\n",
      "\\hline\n",
      "Newton & $100$ & $3.13e+02$ & $1.69e+02$ & $5.30e+02$ \\\\\n",
      "Newton & $8$ & $6.50e-16$ & $3.51e-16$ & $9.44e-16$ \\\\\n",
      "\\end{tabular}\n",
      "psi_n: 9.58e-01\n",
      "Cond: 9.85e+00\n"
     ]
    },
    {
     "name": "stderr",
     "output_type": "stream",
     "text": [
      "/usr/lib64/python3.4/site-packages/matplotlib/backends/backend_gtk3.py:215: Warning: Source ID 107 was not found when attempting to remove it\n",
      "  GLib.source_remove(self._idle_event_id)\n",
      "/usr/lib64/python3.4/site-packages/matplotlib/backends/backend_gtk3.py:215: Warning: Source ID 108 was not found when attempting to remove it\n",
      "  GLib.source_remove(self._idle_event_id)\n",
      "/usr/lib64/python3.4/site-packages/matplotlib/backends/backend_gtk3.py:215: Warning: Source ID 109 was not found when attempting to remove it\n",
      "  GLib.source_remove(self._idle_event_id)\n",
      "/usr/lib64/python3.4/site-packages/matplotlib/backends/backend_gtk3.py:215: Warning: Source ID 110 was not found when attempting to remove it\n",
      "  GLib.source_remove(self._idle_event_id)\n",
      "/usr/lib64/python3.4/site-packages/matplotlib/backends/backend_gtk3.py:215: Warning: Source ID 111 was not found when attempting to remove it\n",
      "  GLib.source_remove(self._idle_event_id)\n",
      "/usr/lib64/python3.4/site-packages/matplotlib/backends/backend_gtk3.py:215: Warning: Source ID 112 was not found when attempting to remove it\n",
      "  GLib.source_remove(self._idle_event_id)\n",
      "/usr/lib64/python3.4/site-packages/matplotlib/backends/backend_gtk3.py:215: Warning: Source ID 113 was not found when attempting to remove it\n",
      "  GLib.source_remove(self._idle_event_id)\n",
      "/usr/lib64/python3.4/site-packages/matplotlib/backends/backend_gtk3.py:215: Warning: Source ID 114 was not found when attempting to remove it\n",
      "  GLib.source_remove(self._idle_event_id)\n",
      "/usr/lib64/python3.4/site-packages/matplotlib/backends/backend_gtk3.py:215: Warning: Source ID 115 was not found when attempting to remove it\n",
      "  GLib.source_remove(self._idle_event_id)\n"
     ]
    }
   ],
   "source": [
    "A4 = numpy.array([[ 0.38420254,  0.50223925,  0.52823837,  0.11092816],\n",
    "       [ 0.48789486,  0.88984659,  0.09429784,  0.54623808],\n",
    "       [ 0.2425929 ,  0.52993533,  0.47182584,  0.54590756],\n",
    "       [ 0.11032265,  0.33712894,  0.75394194,  0.88978741]])\n",
    "prettydata = experiments.pretty_experiments(A4,'test4')\n",
    "print (prettydata['latex'])\n",
    "print (\"psi_n: {p:.2e}\".format(p=prettydata['psi_n']))\n",
    "print (\"Cond: {c:.2e}\".format(c=prettydata['scond']))\n",
    "pyplot.close('all')"
   ]
  },
  {
   "cell_type": "code",
   "execution_count": 8,
   "metadata": {
    "collapsed": false
   },
   "outputs": [
    {
     "name": "stderr",
     "output_type": "stream",
     "text": [
      "WARNING:root:Method hasn't converged with enough iterations\n",
      "/usr/lib64/python3.4/site-packages/numpy/linalg/linalg.py:2209: RuntimeWarning: overflow encountered in multiply\n",
      "  ret = sqrt(add.reduce((x.conj() * x).real, axis=axis))\n",
      "WARNING:root:Method hasn't converged with enough iterations\n"
     ]
    },
    {
     "name": "stdout",
     "output_type": "stream",
     "text": [
      "+------------+-------+-----------+-------------------+-------------------+-------------------+\n",
      "|   Method   |  Type | Iteration |   Absolute error  |   Relative error  |   Square residue  |\n",
      "+------------+-------+-----------+-------------------+-------------------+-------------------+\n",
      "|     CR     | final |     13    | 1.44276091479e-11 | 6.49494490466e-14 | 6.22473145234e-09 |\n",
      "|     CR     |  best |     12    | 1.44276091479e-11 | 6.49494490466e-14 | 6.22473145234e-09 |\n",
      "|     DB     | final |    100    | 2.10897463621e-11 | 9.49407065794e-14 | 9.26293551437e-09 |\n",
      "|     DB     |  best |     13    | 2.59635318645e-12 | 1.16881256806e-14 | 1.18258877504e-10 |\n",
      "| Product DB | final |     13    | 4.08342565316e-12 | 1.83825499899e-14 |  4.6885856091e-10 |\n",
      "| Product DB |  best |     12    |  4.0823685423e-12 | 1.83777911441e-14 | 4.69343869897e-10 |\n",
      "|   Newton   | final |    100    |        inf        |        inf        |        inf        |\n",
      "|   Newton   |  best |     10    |  0.0436803667582  | 0.000196637968635 |   19.2767052624   |\n",
      "+------------+-------+-----------+-------------------+-------------------+-------------------+\n",
      "\\begin{tabular}{r| c c c c}\n",
      "Method & Iteration & Absolute error & Relative error & Square residue \\\\\n",
      "\\hline\n",
      "CR & $13$ & $1.44e-11$ & $6.49e-14$ & $6.22e-09$ \\\\\n",
      "CR & $12$ & $1.44e-11$ & $6.49e-14$ & $6.22e-09$ \\\\\n",
      "\\hline\n",
      "DB & $100$ & $2.11e-11$ & $9.49e-14$ & $9.26e-09$ \\\\\n",
      "DB & $13$ & $2.60e-12$ & $1.17e-14$ & $1.18e-10$ \\\\\n",
      "\\hline\n",
      "Product DB & $13$ & $4.08e-12$ & $1.84e-14$ & $4.69e-10$ \\\\\n",
      "Product DB & $12$ & $4.08e-12$ & $1.84e-14$ & $4.69e-10$ \\\\\n",
      "\\hline\n",
      "Newton & $100$ & $inf$ & $inf$ & $inf$ \\\\\n",
      "Newton & $10$ & $4.37e-02$ & $1.97e-04$ & $1.93e+01$ \\\\\n",
      "\\end{tabular}\n",
      "psi_n: 4.92e+04\n",
      "Cond: 2.22e+02\n",
      "[  1.00000000e+00 +0.00000000e+00j   1.00000000e+00 +0.00000000e+00j\n",
      "   4.91930000e+04 +0.00000000e+00j   1.00000000e+00 +0.00000000e+00j\n",
      "   1.00000000e+00 +6.95098168e-13j   1.00000000e+00 -6.95098168e-13j\n",
      "   1.00000000e+00 +0.00000000e+00j   1.00000000e+00 +0.00000000e+00j\n",
      "   1.00000000e+00 +0.00000000e+00j   1.00000000e+00 +0.00000000e+00j\n",
      "   1.00000000e+00 +0.00000000e+00j   1.00000000e+00 +0.00000000e+00j]\n"
     ]
    },
    {
     "name": "stderr",
     "output_type": "stream",
     "text": [
      "/usr/lib64/python3.4/site-packages/matplotlib/backends/backend_gtk3.py:215: Warning: Source ID 62 was not found when attempting to remove it\n",
      "  GLib.source_remove(self._idle_event_id)\n",
      "/usr/lib64/python3.4/site-packages/matplotlib/backends/backend_gtk3.py:215: Warning: Source ID 63 was not found when attempting to remove it\n",
      "  GLib.source_remove(self._idle_event_id)\n",
      "/usr/lib64/python3.4/site-packages/matplotlib/backends/backend_gtk3.py:215: Warning: Source ID 64 was not found when attempting to remove it\n",
      "  GLib.source_remove(self._idle_event_id)\n",
      "/usr/lib64/python3.4/site-packages/matplotlib/backends/backend_gtk3.py:215: Warning: Source ID 65 was not found when attempting to remove it\n",
      "  GLib.source_remove(self._idle_event_id)\n",
      "/usr/lib64/python3.4/site-packages/matplotlib/backends/backend_gtk3.py:215: Warning: Source ID 66 was not found when attempting to remove it\n",
      "  GLib.source_remove(self._idle_event_id)\n",
      "/usr/lib64/python3.4/site-packages/matplotlib/backends/backend_gtk3.py:215: Warning: Source ID 67 was not found when attempting to remove it\n",
      "  GLib.source_remove(self._idle_event_id)\n",
      "/usr/lib64/python3.4/site-packages/matplotlib/backends/backend_gtk3.py:215: Warning: Source ID 68 was not found when attempting to remove it\n",
      "  GLib.source_remove(self._idle_event_id)\n",
      "/usr/lib64/python3.4/site-packages/matplotlib/backends/backend_gtk3.py:215: Warning: Source ID 69 was not found when attempting to remove it\n",
      "  GLib.source_remove(self._idle_event_id)\n",
      "/usr/lib64/python3.4/site-packages/matplotlib/backends/backend_gtk3.py:215: Warning: Source ID 70 was not found when attempting to remove it\n",
      "  GLib.source_remove(self._idle_event_id)\n"
     ]
    }
   ],
   "source": [
    "n = 12\n",
    "u = numpy.square(numpy.linspace(1,n,n))\n",
    "v = numpy.square(numpy.linspace(0,n-1,n))\n",
    "Ae1 = numpy.eye(n)+numpy.dot(u[:,None],v[None,:])\n",
    "prettydata = experiments.pretty_experiments(Ae1,'e1')\n",
    "print (prettydata['latex'])\n",
    "print (\"psi_n: {p:.2e}\".format(p=prettydata['psi_n']))\n",
    "print (\"Cond: {c:.2e}\".format(c=prettydata['scond']))\n",
    "print (numpy.linalg.eig(Ae1)[0])\n",
    "pyplot.close('all')"
   ]
  },
  {
   "cell_type": "code",
   "execution_count": 14,
   "metadata": {
    "collapsed": false
   },
   "outputs": [
    {
     "name": "stderr",
     "output_type": "stream",
     "text": [
      "WARNING:root:Method hasn't converged with enough iterations\n",
      "WARNING:root:Method hasn't converged with enough iterations\n"
     ]
    },
    {
     "name": "stdout",
     "output_type": "stream",
     "text": [
      "+------------+-------+-----------+-------------------+-------------------+-------------------+\n",
      "|   Method   |  Type | Iteration |   Absolute error  |   Relative error  |   Square residue  |\n",
      "+------------+-------+-----------+-------------------+-------------------+-------------------+\n",
      "|     CR     | final |     19    |        0.0        |        0.0        | 7.73899432222e-14 |\n",
      "|     CR     |  best |     18    |        0.0        |        0.0        | 7.73899432222e-14 |\n",
      "|     DB     | final |    100    | 5.31094195133e-09 | 4.55409515214e-10 |  3.0485279253e-08 |\n",
      "|     DB     |  best |     62    | 5.30825011872e-09 | 4.55178692472e-10 | 3.04489214318e-08 |\n",
      "| Product DB | final |     19    | 1.45426929796e-09 | 1.24702563508e-10 | 5.71247318562e-09 |\n",
      "| Product DB |  best |     18    | 1.45426922582e-09 | 1.24702557322e-10 | 5.71247286814e-09 |\n",
      "|   Newton   | final |    100    |   23207529524.8   |   1990029239.08   |   8150.83005302   |\n",
      "|   Newton   |  best |     9     |  0.00246909281868 | 0.000211722962495 |  0.0146597479319  |\n",
      "+------------+-------+-----------+-------------------+-------------------+-------------------+\n",
      "[  8.74302808e+01   1.16728491e+01   5.59387407e+00   2.09547408e-09\n",
      "   3.90652024e+00   3.20544167e+00   2.84743530e+00   2.64038708e+00\n",
      "   2.51046217e+00   2.42429582e+00   2.36501476e+00   2.32336252e+00\n",
      "   2.29395459e+00   2.27353589e+00   2.25247696e+00   2.26010905e+00]\n",
      "\\begin{tabular}{r| c c c c}\n",
      "Method & Iteration & Absolute error & Relative error & Square residue \\\\\n",
      "\\hline\n",
      "CR & $19$ & $0.00e+00$ & $0.00e+00$ & $7.74e-14$ \\\\\n",
      "CR & $18$ & $0.00e+00$ & $0.00e+00$ & $7.74e-14$ \\\\\n",
      "\\hline\n",
      "DB & $100$ & $5.31e-09$ & $4.55e-10$ & $3.05e-08$ \\\\\n",
      "DB & $62$ & $5.31e-09$ & $4.55e-10$ & $3.04e-08$ \\\\\n",
      "\\hline\n",
      "Product DB & $19$ & $1.45e-09$ & $1.25e-10$ & $5.71e-09$ \\\\\n",
      "Product DB & $18$ & $1.45e-09$ & $1.25e-10$ & $5.71e-09$ \\\\\n",
      "\\hline\n",
      "Newton & $100$ & $2.32e+10$ & $1.99e+09$ & $8.15e+03$ \\\\\n",
      "Newton & $9$ & $2.47e-03$ & $2.12e-04$ & $1.47e-02$ \\\\\n",
      "\\end{tabular}\n",
      "psi_n: 8.64e+01\n",
      "Cond: 2.04e+05\n",
      "[  8.74302808e+01   1.16728491e+01   5.59387407e+00   2.09547408e-09\n",
      "   3.90652024e+00   3.20544167e+00   2.84743530e+00   2.64038708e+00\n",
      "   2.51046217e+00   2.42429582e+00   2.36501476e+00   2.32336252e+00\n",
      "   2.29395459e+00   2.27353589e+00   2.25247696e+00   2.26010905e+00]\n"
     ]
    },
    {
     "name": "stderr",
     "output_type": "stream",
     "text": [
      "/usr/lib64/python3.4/site-packages/matplotlib/backends/backend_gtk3.py:215: Warning: Source ID 98 was not found when attempting to remove it\n",
      "  GLib.source_remove(self._idle_event_id)\n",
      "/usr/lib64/python3.4/site-packages/matplotlib/backends/backend_gtk3.py:215: Warning: Source ID 99 was not found when attempting to remove it\n",
      "  GLib.source_remove(self._idle_event_id)\n",
      "/usr/lib64/python3.4/site-packages/matplotlib/backends/backend_gtk3.py:215: Warning: Source ID 100 was not found when attempting to remove it\n",
      "  GLib.source_remove(self._idle_event_id)\n",
      "/usr/lib64/python3.4/site-packages/matplotlib/backends/backend_gtk3.py:215: Warning: Source ID 101 was not found when attempting to remove it\n",
      "  GLib.source_remove(self._idle_event_id)\n",
      "/usr/lib64/python3.4/site-packages/matplotlib/backends/backend_gtk3.py:215: Warning: Source ID 102 was not found when attempting to remove it\n",
      "  GLib.source_remove(self._idle_event_id)\n",
      "/usr/lib64/python3.4/site-packages/matplotlib/backends/backend_gtk3.py:215: Warning: Source ID 103 was not found when attempting to remove it\n",
      "  GLib.source_remove(self._idle_event_id)\n",
      "/usr/lib64/python3.4/site-packages/matplotlib/backends/backend_gtk3.py:215: Warning: Source ID 104 was not found when attempting to remove it\n",
      "  GLib.source_remove(self._idle_event_id)\n",
      "/usr/lib64/python3.4/site-packages/matplotlib/backends/backend_gtk3.py:215: Warning: Source ID 105 was not found when attempting to remove it\n",
      "  GLib.source_remove(self._idle_event_id)\n",
      "/usr/lib64/python3.4/site-packages/matplotlib/backends/backend_gtk3.py:215: Warning: Source ID 106 was not found when attempting to remove it\n",
      "  GLib.source_remove(self._idle_event_id)\n"
     ]
    }
   ],
   "source": [
    "n=16\n",
    "Amoler = numpy.min(numpy.array([numpy.array(n*[range(1,n+1)]), numpy.array(n*[range(1,n+1)]).T]),axis=0)-2 + 2*numpy.eye(n)\n",
    "prettydata = experiments.pretty_experiments(Amoler,'moler')\n",
    "print (prettydata['latex'])\n",
    "print (\"psi_n: {p:.2e}\".format(p=prettydata['psi_n']))\n",
    "print (\"Cond: {c:.2e}\".format(c=prettydata['scond']))\n",
    "print (numpy.linalg.eig(Amoler)[0])\n",
    "pyplot.close('all')"
   ]
  },
  {
   "cell_type": "code",
   "execution_count": 17,
   "metadata": {
    "collapsed": false
   },
   "outputs": [
    {
     "name": "stderr",
     "output_type": "stream",
     "text": [
      "WARNING:root:Method hasn't converged with enough iterations\n",
      "WARNING:root:Method hasn't converged with enough iterations\n"
     ]
    },
    {
     "name": "stdout",
     "output_type": "stream",
     "text": [
      "+------------+-------+-----------+-------------------+-------------------+-------------------+\n",
      "|   Method   |  Type | Iteration |   Absolute error  |   Relative error  |   Square residue  |\n",
      "+------------+-------+-----------+-------------------+-------------------+-------------------+\n",
      "|     CR     | final |     23    |        0.0        |        0.0        | 5.35708278846e-15 |\n",
      "|     CR     |  best |     22    |        0.0        |        0.0        | 5.35708278846e-15 |\n",
      "|     DB     | final |    100    | 7.04613174532e-05 | 1.12448757821e-05 | 0.000180759745488 |\n",
      "|     DB     |  best |     20    | 7.04612512057e-05 | 1.12448652098e-05 | 0.000180759639501 |\n",
      "| Product DB | final |     23    | 7.16312050863e-05 | 1.14315773879e-05 | 0.000169088140859 |\n",
      "| Product DB |  best |     23    | 7.16312050863e-05 | 1.14315773879e-05 | 0.000169088140859 |\n",
      "|   Newton   | final |    100    |   971796781.172   |   155088415.669   |   1143596976.24   |\n",
      "|   Newton   |  best |     6     |  0.0585998239386  |  0.00935190775397 |  0.0600696660854  |\n",
      "+------------+-------+-----------+-------------------+-------------------+-------------------+\n",
      "\\begin{tabular}{r| c c c c}\n",
      "Method & Iteration & Absolute error & Relative error & Square residue \\\\\n",
      "\\hline\n",
      "CR & $23$ & $0.00e+00$ & $0.00e+00$ & $5.36e-15$ \\\\\n",
      "CR & $22$ & $0.00e+00$ & $0.00e+00$ & $5.36e-15$ \\\\\n",
      "\\hline\n",
      "DB & $100$ & $7.05e-05$ & $1.12e-05$ & $1.81e-04$ \\\\\n",
      "DB & $20$ & $7.05e-05$ & $1.12e-05$ & $1.81e-04$ \\\\\n",
      "\\hline\n",
      "Product DB & $23$ & $7.16e-05$ & $1.14e-05$ & $1.69e-04$ \\\\\n",
      "Product DB & $23$ & $7.16e-05$ & $1.14e-05$ & $1.69e-04$ \\\\\n",
      "\\hline\n",
      "Newton & $100$ & $9.72e+08$ & $1.55e+08$ & $1.14e+09$ \\\\\n",
      "Newton & $6$ & $5.86e-02$ & $9.35e-03$ & $6.01e-02$ \\\\\n",
      "\\end{tabular}\n",
      "psi_n: 4.36e+00\n",
      "Cond: 3.91e+06\n",
      "[  3.56913004e+00+0.j           3.10867693e+00+1.43553282j\n",
      "   3.10867693e+00-1.43553282j  -1.37513720e+00+3.66095418j\n",
      "  -1.37513720e+00-3.66095418j  -1.95102120e+00+2.54834767j\n",
      "  -1.95102120e+00-2.54834767j  -3.76857249e-01+1.99627715j\n",
      "  -3.76857249e-01-1.99627715j   4.87061563e-01+0.j           1.53300834e-02+0.j\n",
      "   4.44971998e-04+0.j           1.03725673e-05+0.j           1.74151234e-07+0.j\n",
      "   1.83611935e-09+0.j           9.04528653e-12+0.j        ]\n"
     ]
    },
    {
     "name": "stderr",
     "output_type": "stream",
     "text": [
      "/usr/lib64/python3.4/site-packages/matplotlib/backends/backend_gtk3.py:215: Warning: Source ID 116 was not found when attempting to remove it\n",
      "  GLib.source_remove(self._idle_event_id)\n",
      "/usr/lib64/python3.4/site-packages/matplotlib/backends/backend_gtk3.py:215: Warning: Source ID 117 was not found when attempting to remove it\n",
      "  GLib.source_remove(self._idle_event_id)\n",
      "/usr/lib64/python3.4/site-packages/matplotlib/backends/backend_gtk3.py:215: Warning: Source ID 118 was not found when attempting to remove it\n",
      "  GLib.source_remove(self._idle_event_id)\n",
      "/usr/lib64/python3.4/site-packages/matplotlib/backends/backend_gtk3.py:215: Warning: Source ID 119 was not found when attempting to remove it\n",
      "  GLib.source_remove(self._idle_event_id)\n",
      "/usr/lib64/python3.4/site-packages/matplotlib/backends/backend_gtk3.py:215: Warning: Source ID 120 was not found when attempting to remove it\n",
      "  GLib.source_remove(self._idle_event_id)\n",
      "/usr/lib64/python3.4/site-packages/matplotlib/backends/backend_gtk3.py:215: Warning: Source ID 121 was not found when attempting to remove it\n",
      "  GLib.source_remove(self._idle_event_id)\n",
      "/usr/lib64/python3.4/site-packages/matplotlib/backends/backend_gtk3.py:215: Warning: Source ID 122 was not found when attempting to remove it\n",
      "  GLib.source_remove(self._idle_event_id)\n",
      "/usr/lib64/python3.4/site-packages/matplotlib/backends/backend_gtk3.py:215: Warning: Source ID 123 was not found when attempting to remove it\n",
      "  GLib.source_remove(self._idle_event_id)\n",
      "/usr/lib64/python3.4/site-packages/matplotlib/backends/backend_gtk3.py:215: Warning: Source ID 124 was not found when attempting to remove it\n",
      "  GLib.source_remove(self._idle_event_id)\n"
     ]
    }
   ],
   "source": [
    "Achebvand = numpy.loadtxt('chebvand.txt')\n",
    "prettydata = experiments.pretty_experiments(Achebvand,'chebvand')\n",
    "print (prettydata['latex'])\n",
    "print (\"psi_n: {p:.2e}\".format(p=prettydata['psi_n']))\n",
    "print (\"Cond: {c:.2e}\".format(c=prettydata['scond']))\n",
    "print (numpy.linalg.eig(Achebvand)[0])\n",
    "pyplot.close('all')"
   ]
  },
  {
   "cell_type": "code",
   "execution_count": null,
   "metadata": {
    "collapsed": true
   },
   "outputs": [],
   "source": []
  }
 ],
 "metadata": {
  "kernelspec": {
   "display_name": "Python 3",
   "language": "python",
   "name": "python3"
  },
  "language_info": {
   "codemirror_mode": {
    "name": "ipython",
    "version": 3
   },
   "file_extension": ".py",
   "mimetype": "text/x-python",
   "name": "python",
   "nbconvert_exporter": "python",
   "pygments_lexer": "ipython3",
   "version": "3.4.5"
  }
 },
 "nbformat": 4,
 "nbformat_minor": 0
}
